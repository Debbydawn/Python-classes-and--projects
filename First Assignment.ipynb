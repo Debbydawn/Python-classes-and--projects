{
 "cells": [
  {
   "cell_type": "markdown",
   "id": "31c8280c",
   "metadata": {
    "tags": []
   },
   "source": [
    "# The Assignment\n"
   ]
  },
  {
   "cell_type": "code",
   "execution_count": 1,
   "id": "a771b1fd",
   "metadata": {},
   "outputs": [
    {
     "name": "stdout",
     "output_type": "stream",
     "text": [
      " Enter your desired text: eenhwnhwhcbcjcemcehwk,swd \n",
      "Enter your starting index: 2\n",
      "Enter your ending index: 18\n"
     ]
    },
    {
     "data": {
      "text/plain": [
       "'nhwnhwhcbcjcemce'"
      ]
     },
     "execution_count": 1,
     "metadata": {},
     "output_type": "execute_result"
    }
   ],
   "source": [
    "\"\"\"substring\"\"\"\n",
    "sentence = input(\" Enter your desired text: \")\n",
    "start = int(input(\"Enter your starting index: \"))\n",
    "end = int(input(\"Enter your ending index: \"))\n",
    "res = \"\"\n",
    "for i in range(start,end):\n",
    "    res += sentence[i]\n",
    "\n",
    "\n",
    "res"
   ]
  },
  {
   "cell_type": "code",
   "execution_count": 2,
   "id": "af863dc9",
   "metadata": {},
   "outputs": [
    {
     "name": "stdout",
     "output_type": "stream",
     "text": [
      "Enter your desired text: hejwdmwe wehwewjwekwewejekew\n",
      "h.e.j.w.d.m.w.e. .w.e.h.w.e.w.j.w.e.k.w.e.w.e.j.e.k.e.w."
     ]
    }
   ],
   "source": [
    "\"\"\"Add Dots\"\"\"\n",
    "text = input(\"Enter your desired text: \")\n",
    "res = \"\"\n",
    "for i in text:\n",
    "    print(i,end= '.')"
   ]
  },
  {
   "cell_type": "code",
   "execution_count": 3,
   "id": "f846569e",
   "metadata": {},
   "outputs": [
    {
     "name": "stdout",
     "output_type": "stream",
     "text": [
      "Enter desired text: hchcnwkfmkjckc mecgehekjckewcgecnewewlkew\n",
      "Enter your desired character: e\n"
     ]
    },
    {
     "data": {
      "text/plain": [
       "8"
      ]
     },
     "execution_count": 3,
     "metadata": {},
     "output_type": "execute_result"
    }
   ],
   "source": [
    "\"\"\"count occurrences\"\"\"\n",
    "text = input(\"Enter desired text: \")\n",
    "charc = input(\"Enter your desired character: \")\n",
    "res = 0\n",
    "for i in text:\n",
    "    if i == charc:\n",
    "        res += 1\n",
    "\n",
    "        \n",
    "res"
   ]
  },
  {
   "cell_type": "code",
   "execution_count": 2,
   "id": "fb05dd7f",
   "metadata": {},
   "outputs": [
    {
     "name": "stdin",
     "output_type": "stream",
     "text": [
      "Enter first number:  12\n",
      "Enter second number:  49\n"
     ]
    },
    {
     "name": "stdout",
     "output_type": "stream",
     "text": [
      "1213141516171819202122232425262728293031323334353637383940414243444546474849"
     ]
    }
   ],
   "source": [
    "\"\"\"Ascending and descending number strings\"\"\"\n",
    "num1 = int(input(\"Enter first number: \"))\n",
    "num2 = int(input(\"Enter second number: \"))\n",
    "if num1 < num2:\n",
    "    for i in range(num1, num2 +1):\n",
    "        print(i,end='')\n",
    "elif num1 == num2:\n",
    "    print(num1)\n",
    "else:\n",
    "    for i in range(num1, num2 - 1, -1):\n",
    "        print(i,end=' ')\n"
   ]
  },
  {
   "cell_type": "code",
   "execution_count": 5,
   "id": "46e6ab32",
   "metadata": {},
   "outputs": [
    {
     "name": "stdout",
     "output_type": "stream",
     "text": [
      "Enter your numbers: 221367244828329984747\n"
     ]
    },
    {
     "data": {
      "text/plain": [
       "4"
      ]
     },
     "execution_count": 5,
     "metadata": {},
     "output_type": "execute_result"
    }
   ],
   "source": [
    "\"\"\"Alternating sum string\"\"\"\n",
    "str_num = input(\"Enter your numbers: \")\n",
    "res = int(str_num[0])\n",
    "for i in range(1, len(str_num)):\n",
    "    if i % 2 == 0:\n",
    "        res -= int(str_num[i])\n",
    "    else:\n",
    "        res += int(str_num[i])\n",
    "\n",
    "        \n",
    "res"
   ]
  }
 ],
 "metadata": {
  "kernelspec": {
   "display_name": "Python 3 (ipykernel)",
   "language": "python",
   "name": "python3"
  },
  "language_info": {
   "codemirror_mode": {
    "name": "ipython",
    "version": 3
   },
   "file_extension": ".py",
   "mimetype": "text/x-python",
   "name": "python",
   "nbconvert_exporter": "python",
   "pygments_lexer": "ipython3",
   "version": "3.9.12"
  }
 },
 "nbformat": 4,
 "nbformat_minor": 5
}
