{
 "cells": [
  {
   "cell_type": "markdown",
   "id": "b9eaa9e7-e1e6-4af2-8080-9fa214dc9ea3",
   "metadata": {},
   "source": [
    "**HOMEWORK ONE**"
   ]
  },
  {
   "cell_type": "markdown",
   "id": "5e20340e-fdd5-467c-a6a9-e35fded1f765",
   "metadata": {},
   "source": [
    "**Question 1**\n",
    "\n",
    "Question on Functions (20 Points)\n",
    "\n",
    "a. Write a program that calculates the overtime pay using the following steps\n",
    "\n",
    "Ask the user the total number of hours per week\n",
    "\n",
    "Ask the user the base salary per week\n",
    "\n",
    "Assume 40 hours per week and $45.00 per hour"
   ]
  },
  {
   "cell_type": "code",
   "execution_count": 8,
   "id": "dea579d8-f7a4-40cd-a79a-1efae4ef8fb6",
   "metadata": {},
   "outputs": [
    {
     "name": "stdin",
     "output_type": "stream",
     "text": [
      "Enter the number of hours worked per week:  70\n",
      "Enter the base salary per hour: 68\n"
     ]
    },
    {
     "name": "stdout",
     "output_type": "stream",
     "text": [
      "The total Overtime pay is $500.00\n",
      "The total salary for the week inculding overtime is $568.00\n"
     ]
    },
    {
     "data": {
      "text/plain": [
       "500.0"
      ]
     },
     "execution_count": 8,
     "metadata": {},
     "output_type": "execute_result"
    }
   ],
   "source": [
    "def overtime_pay():\n",
    "    num_hours = float(input(\"Enter the number of hours worked per week: \"))\n",
    "    base_salary = float(input(\"Enter the base salary per hour:\"))\n",
    "    overtime_pay_per_hours = 50\n",
    "    base_hour_limit_per_week = 60\n",
    "    hours_diff = num_hours - base_hour_limit_per_week\n",
    "    if hours_diff > 0:\n",
    "        Total_overtime_pay = hours_diff * overtime_pay_per_hours\n",
    "    else:\n",
    "        Total_overtime_pay = 0\n",
    "    total_salary = Total_overtime_pay + base_salary\n",
    "    print(\"The total Overtime pay is ${:.2f}\".format(Total_overtime_pay))\n",
    "    print(\"The total salary for the week inculding overtime is ${:.2f}\".format(total_salary))\n",
    "    return Total_overtime_pay\n",
    "\n",
    "overtime_pay()\n"
   ]
  },
  {
   "cell_type": "markdown",
   "id": "150159ff-69ed-49af-8077-4824936129d7",
   "metadata": {},
   "source": [
    "**Question 2**\n",
    "\n",
    "Question on List (20 Points)\n",
    "\n",
    "a. Write a program that requests the user to a enter of list of 10 float values stored \n",
    "in variable name called mylist1 (note the values need to be ordered)\n",
    "\n",
    "b. User list comprehension to recreate a new list of the same values from mylist1. \n",
    "The new list is called mylist2\n",
    "\n",
    "c. Sort the values in mylist2"
   ]
  },
  {
   "cell_type": "code",
   "execution_count": 2,
   "id": "e37a74a4-17bd-43f5-a91c-b2c0ff70b875",
   "metadata": {},
   "outputs": [
    {
     "name": "stdin",
     "output_type": "stream",
     "text": [
      "Enter a number: 5\n",
      "Enter a number: 3\n",
      "Enter a number: 5\n",
      "Enter a number: 23\n",
      "Enter a number: 56\n",
      "Enter a number: 8\n",
      "Enter a number: 9\n",
      "Enter a number: 675\n",
      "Enter a number: 45\n",
      "Enter a number: 3\n"
     ]
    },
    {
     "name": "stdout",
     "output_type": "stream",
     "text": [
      "The entered list is: \n",
      " [5, 3, 5, 23, 56, 8, 9, 675, 45, 3]\n"
     ]
    },
    {
     "data": {
      "text/plain": [
       "[3, 3, 5, 5, 8, 9, 23, 45, 56, 675]"
      ]
     },
     "execution_count": 2,
     "metadata": {},
     "output_type": "execute_result"
    }
   ],
   "source": [
    "\"\"\"a\"\"\"\n",
    "mylist1 = []\n",
    "n = 10\n",
    "for i in range(0, n):\n",
    "   elm = int(input(\"Enter a number:\"))\n",
    "   mylist1.append(elm)\n",
    "print(\"The entered list is: \\n\",mylist1)\n",
    "\"\"\"b\"\"\"\n",
    "mylist2 = [x for x in mylist1]\n",
    "\"\"\"c\"\"\"\n",
    "mylist2.sort()\n",
    "mylist2\n",
    "\n"
   ]
  },
  {
   "cell_type": "markdown",
   "id": "9072eef5-f973-4036-a6c9-75a46c194a1f",
   "metadata": {},
   "source": [
    "**Question 3**\n",
    "\n",
    "Question on Dictionary (15 Points)\n",
    "\n",
    "a. Write a program that creates a single dictionary consisting of the following key-value pairs (name of dictionary- my_dict1)\n",
    "School: MTSU, Textbooks: 14, Level: Elementary, Hobby:Dancing, Height:4.5inch,\n",
    "Food: Amala\n",
    "\n",
    "b. Update the dictionary with your credentials.\n",
    "For example, change school to your actual school (former or current)\n",
    "\n",
    "c. Add new key-pair values such as\n",
    "Is_location_USA: True, is_graduated:No\n",
    "\n",
    "d. Remove the key-value pair Hobby:Dancing and delete last entry of the updated \n",
    "dictionary.\n"
   ]
  },
  {
   "cell_type": "code",
   "execution_count": 3,
   "id": "32274c00-9e93-40f8-94e4-bd9a85f55b1f",
   "metadata": {},
   "outputs": [
    {
     "data": {
      "text/plain": [
       "{'School': 'APSU',\n",
       " 'Textbook': 10,\n",
       " 'Level': 'Intermediate',\n",
       " 'Height': 6.3,\n",
       " 'Food': 'Mac and cheese',\n",
       " 'Is location USA': True}"
      ]
     },
     "execution_count": 3,
     "metadata": {},
     "output_type": "execute_result"
    }
   ],
   "source": [
    "\"\"\"a\"\"\"\n",
    "my_dict1 = {\"School\":\"MTSU\", \"Textbook\":14, \"Level\":\"Elementary\", \"Hobby\":\"Dancing\", \"Height\":4.5, \"Food\":\"Amala\"}\n",
    "\"\"\"b\"\"\"\n",
    "my_dict1[\"School\"] = \"APSU\"\n",
    "my_dict1[\"Textbook\"] = 10\n",
    "my_dict1[\"Level\"] = \"Intermediate\"\n",
    "my_dict1[\"Hobby\"] = \"Movies\"\n",
    "my_dict1[\"Height\"] = 6.3\n",
    "my_dict1[\"Food\"] = \"Mac and cheese\"\n",
    "\"\"\"c\"\"\"\n",
    "my_dict1[\"Is location USA\"] = True\n",
    "my_dict1[\"Is graduated\"] = \"No\"\n",
    "\"\"\"d\"\"\"\n",
    "my_dict1.pop(\"Hobby\")\n",
    "my_dict1.popitem()\n",
    "\n",
    "my_dict1"
   ]
  },
  {
   "cell_type": "markdown",
   "id": "fa05f5fd-66f4-4432-b546-33db96126184",
   "metadata": {},
   "source": [
    "**Question 4**\n",
    "Question Numpy (45 Points)\n",
    "\n",
    "a. Create an array of ones of size 20 by 11 called myarray1\n",
    "\n",
    "b. Multiply scalar of 0.5 by the array\n",
    "\n",
    "c. Update the 6th row with a value of 10.5\n",
    "\n",
    "d. Update the 7th row with a value of 11.5\n",
    "\n",
    "e. Update the 1st column with a value of 9.5\n",
    "\n",
    "f. Slice the 5th row to the 11th in myarry1\n",
    "\n",
    "g. Slice the 6th column to 9th column in myarray1\n",
    "\n",
    "h. Merge the 6th column with 8th column using np.hstack\n",
    "\n",
    "i. Merge the 5th column with 10th column using np.vstack"
   ]
  },
  {
   "cell_type": "code",
   "execution_count": 4,
   "id": "3888fa7b-ccb1-473c-a9bc-d53ed72b3077",
   "metadata": {},
   "outputs": [
    {
     "data": {
      "text/plain": [
       "array([[1., 1., 1., 1., 1., 1., 1., 1., 1., 1., 1.],\n",
       "       [1., 1., 1., 1., 1., 1., 1., 1., 1., 1., 1.],\n",
       "       [1., 1., 1., 1., 1., 1., 1., 1., 1., 1., 1.],\n",
       "       [1., 1., 1., 1., 1., 1., 1., 1., 1., 1., 1.],\n",
       "       [1., 1., 1., 1., 1., 1., 1., 1., 1., 1., 1.],\n",
       "       [1., 1., 1., 1., 1., 1., 1., 1., 1., 1., 1.],\n",
       "       [1., 1., 1., 1., 1., 1., 1., 1., 1., 1., 1.],\n",
       "       [1., 1., 1., 1., 1., 1., 1., 1., 1., 1., 1.],\n",
       "       [1., 1., 1., 1., 1., 1., 1., 1., 1., 1., 1.],\n",
       "       [1., 1., 1., 1., 1., 1., 1., 1., 1., 1., 1.],\n",
       "       [1., 1., 1., 1., 1., 1., 1., 1., 1., 1., 1.],\n",
       "       [1., 1., 1., 1., 1., 1., 1., 1., 1., 1., 1.],\n",
       "       [1., 1., 1., 1., 1., 1., 1., 1., 1., 1., 1.],\n",
       "       [1., 1., 1., 1., 1., 1., 1., 1., 1., 1., 1.],\n",
       "       [1., 1., 1., 1., 1., 1., 1., 1., 1., 1., 1.],\n",
       "       [1., 1., 1., 1., 1., 1., 1., 1., 1., 1., 1.],\n",
       "       [1., 1., 1., 1., 1., 1., 1., 1., 1., 1., 1.],\n",
       "       [1., 1., 1., 1., 1., 1., 1., 1., 1., 1., 1.],\n",
       "       [1., 1., 1., 1., 1., 1., 1., 1., 1., 1., 1.],\n",
       "       [1., 1., 1., 1., 1., 1., 1., 1., 1., 1., 1.]])"
      ]
     },
     "execution_count": 4,
     "metadata": {},
     "output_type": "execute_result"
    }
   ],
   "source": [
    "import numpy as np\n",
    "\"\"\"a\"\"\"\n",
    "myarray1 = np.ones((20,11), dtype= float)\n",
    "myarray1"
   ]
  },
  {
   "cell_type": "code",
   "execution_count": 5,
   "id": "b469ad6a-6882-46f2-a475-a08acb825e2a",
   "metadata": {},
   "outputs": [
    {
     "data": {
      "text/plain": [
       "array([[0.5, 0.5, 0.5, 0.5, 0.5, 0.5, 0.5, 0.5, 0.5, 0.5, 0.5],\n",
       "       [0.5, 0.5, 0.5, 0.5, 0.5, 0.5, 0.5, 0.5, 0.5, 0.5, 0.5],\n",
       "       [0.5, 0.5, 0.5, 0.5, 0.5, 0.5, 0.5, 0.5, 0.5, 0.5, 0.5],\n",
       "       [0.5, 0.5, 0.5, 0.5, 0.5, 0.5, 0.5, 0.5, 0.5, 0.5, 0.5],\n",
       "       [0.5, 0.5, 0.5, 0.5, 0.5, 0.5, 0.5, 0.5, 0.5, 0.5, 0.5],\n",
       "       [0.5, 0.5, 0.5, 0.5, 0.5, 0.5, 0.5, 0.5, 0.5, 0.5, 0.5],\n",
       "       [0.5, 0.5, 0.5, 0.5, 0.5, 0.5, 0.5, 0.5, 0.5, 0.5, 0.5],\n",
       "       [0.5, 0.5, 0.5, 0.5, 0.5, 0.5, 0.5, 0.5, 0.5, 0.5, 0.5],\n",
       "       [0.5, 0.5, 0.5, 0.5, 0.5, 0.5, 0.5, 0.5, 0.5, 0.5, 0.5],\n",
       "       [0.5, 0.5, 0.5, 0.5, 0.5, 0.5, 0.5, 0.5, 0.5, 0.5, 0.5],\n",
       "       [0.5, 0.5, 0.5, 0.5, 0.5, 0.5, 0.5, 0.5, 0.5, 0.5, 0.5],\n",
       "       [0.5, 0.5, 0.5, 0.5, 0.5, 0.5, 0.5, 0.5, 0.5, 0.5, 0.5],\n",
       "       [0.5, 0.5, 0.5, 0.5, 0.5, 0.5, 0.5, 0.5, 0.5, 0.5, 0.5],\n",
       "       [0.5, 0.5, 0.5, 0.5, 0.5, 0.5, 0.5, 0.5, 0.5, 0.5, 0.5],\n",
       "       [0.5, 0.5, 0.5, 0.5, 0.5, 0.5, 0.5, 0.5, 0.5, 0.5, 0.5],\n",
       "       [0.5, 0.5, 0.5, 0.5, 0.5, 0.5, 0.5, 0.5, 0.5, 0.5, 0.5],\n",
       "       [0.5, 0.5, 0.5, 0.5, 0.5, 0.5, 0.5, 0.5, 0.5, 0.5, 0.5],\n",
       "       [0.5, 0.5, 0.5, 0.5, 0.5, 0.5, 0.5, 0.5, 0.5, 0.5, 0.5],\n",
       "       [0.5, 0.5, 0.5, 0.5, 0.5, 0.5, 0.5, 0.5, 0.5, 0.5, 0.5],\n",
       "       [0.5, 0.5, 0.5, 0.5, 0.5, 0.5, 0.5, 0.5, 0.5, 0.5, 0.5]])"
      ]
     },
     "execution_count": 5,
     "metadata": {},
     "output_type": "execute_result"
    }
   ],
   "source": [
    "\"\"\"b\"\"\"\n",
    "myarray1 = 0.5 * myarray1\n",
    "myarray1"
   ]
  },
  {
   "cell_type": "code",
   "execution_count": 6,
   "id": "69b2baeb-8140-480f-8ad5-db030bf10ee1",
   "metadata": {},
   "outputs": [
    {
     "data": {
      "text/plain": [
       "array([[ 0.5,  0.5,  0.5,  0.5,  0.5,  0.5,  0.5,  0.5,  0.5,  0.5,  0.5],\n",
       "       [ 0.5,  0.5,  0.5,  0.5,  0.5,  0.5,  0.5,  0.5,  0.5,  0.5,  0.5],\n",
       "       [ 0.5,  0.5,  0.5,  0.5,  0.5,  0.5,  0.5,  0.5,  0.5,  0.5,  0.5],\n",
       "       [ 0.5,  0.5,  0.5,  0.5,  0.5,  0.5,  0.5,  0.5,  0.5,  0.5,  0.5],\n",
       "       [ 0.5,  0.5,  0.5,  0.5,  0.5,  0.5,  0.5,  0.5,  0.5,  0.5,  0.5],\n",
       "       [10.5, 10.5, 10.5, 10.5, 10.5, 10.5, 10.5, 10.5, 10.5, 10.5, 10.5],\n",
       "       [ 0.5,  0.5,  0.5,  0.5,  0.5,  0.5,  0.5,  0.5,  0.5,  0.5,  0.5],\n",
       "       [ 0.5,  0.5,  0.5,  0.5,  0.5,  0.5,  0.5,  0.5,  0.5,  0.5,  0.5],\n",
       "       [ 0.5,  0.5,  0.5,  0.5,  0.5,  0.5,  0.5,  0.5,  0.5,  0.5,  0.5],\n",
       "       [ 0.5,  0.5,  0.5,  0.5,  0.5,  0.5,  0.5,  0.5,  0.5,  0.5,  0.5],\n",
       "       [ 0.5,  0.5,  0.5,  0.5,  0.5,  0.5,  0.5,  0.5,  0.5,  0.5,  0.5],\n",
       "       [ 0.5,  0.5,  0.5,  0.5,  0.5,  0.5,  0.5,  0.5,  0.5,  0.5,  0.5],\n",
       "       [ 0.5,  0.5,  0.5,  0.5,  0.5,  0.5,  0.5,  0.5,  0.5,  0.5,  0.5],\n",
       "       [ 0.5,  0.5,  0.5,  0.5,  0.5,  0.5,  0.5,  0.5,  0.5,  0.5,  0.5],\n",
       "       [ 0.5,  0.5,  0.5,  0.5,  0.5,  0.5,  0.5,  0.5,  0.5,  0.5,  0.5],\n",
       "       [ 0.5,  0.5,  0.5,  0.5,  0.5,  0.5,  0.5,  0.5,  0.5,  0.5,  0.5],\n",
       "       [ 0.5,  0.5,  0.5,  0.5,  0.5,  0.5,  0.5,  0.5,  0.5,  0.5,  0.5],\n",
       "       [ 0.5,  0.5,  0.5,  0.5,  0.5,  0.5,  0.5,  0.5,  0.5,  0.5,  0.5],\n",
       "       [ 0.5,  0.5,  0.5,  0.5,  0.5,  0.5,  0.5,  0.5,  0.5,  0.5,  0.5],\n",
       "       [ 0.5,  0.5,  0.5,  0.5,  0.5,  0.5,  0.5,  0.5,  0.5,  0.5,  0.5]])"
      ]
     },
     "execution_count": 6,
     "metadata": {},
     "output_type": "execute_result"
    }
   ],
   "source": [
    "\"\"\"c\"\"\"\n",
    "myarray1[5] = 10.5\n",
    "myarray1"
   ]
  },
  {
   "cell_type": "code",
   "execution_count": 13,
   "id": "55d343a9-3727-4c1a-a11a-faba3f8f7f9b",
   "metadata": {},
   "outputs": [],
   "source": [
    "\"\"\"d\"\"\"\n",
    "myarray1[6] = 11.5"
   ]
  },
  {
   "cell_type": "code",
   "execution_count": 8,
   "id": "d9ddbe2b-06af-4bfe-bed0-7cdaf36cb863",
   "metadata": {},
   "outputs": [
    {
     "data": {
      "text/plain": [
       "array([[ 9.5,  0.5,  0.5,  0.5,  0.5,  0.5,  0.5,  0.5,  0.5,  0.5,  0.5],\n",
       "       [ 9.5,  0.5,  0.5,  0.5,  0.5,  0.5,  0.5,  0.5,  0.5,  0.5,  0.5],\n",
       "       [ 9.5,  0.5,  0.5,  0.5,  0.5,  0.5,  0.5,  0.5,  0.5,  0.5,  0.5],\n",
       "       [ 9.5,  0.5,  0.5,  0.5,  0.5,  0.5,  0.5,  0.5,  0.5,  0.5,  0.5],\n",
       "       [ 9.5,  0.5,  0.5,  0.5,  0.5,  0.5,  0.5,  0.5,  0.5,  0.5,  0.5],\n",
       "       [ 9.5, 10.5, 10.5, 10.5, 10.5, 10.5, 10.5, 10.5, 10.5, 10.5, 10.5],\n",
       "       [ 9.5, 11.5, 11.5, 11.5, 11.5, 11.5, 11.5, 11.5, 11.5, 11.5, 11.5],\n",
       "       [ 9.5,  0.5,  0.5,  0.5,  0.5,  0.5,  0.5,  0.5,  0.5,  0.5,  0.5],\n",
       "       [ 9.5,  0.5,  0.5,  0.5,  0.5,  0.5,  0.5,  0.5,  0.5,  0.5,  0.5],\n",
       "       [ 9.5,  0.5,  0.5,  0.5,  0.5,  0.5,  0.5,  0.5,  0.5,  0.5,  0.5],\n",
       "       [ 9.5,  0.5,  0.5,  0.5,  0.5,  0.5,  0.5,  0.5,  0.5,  0.5,  0.5],\n",
       "       [ 9.5,  0.5,  0.5,  0.5,  0.5,  0.5,  0.5,  0.5,  0.5,  0.5,  0.5],\n",
       "       [ 9.5,  0.5,  0.5,  0.5,  0.5,  0.5,  0.5,  0.5,  0.5,  0.5,  0.5],\n",
       "       [ 9.5,  0.5,  0.5,  0.5,  0.5,  0.5,  0.5,  0.5,  0.5,  0.5,  0.5],\n",
       "       [ 9.5,  0.5,  0.5,  0.5,  0.5,  0.5,  0.5,  0.5,  0.5,  0.5,  0.5],\n",
       "       [ 9.5,  0.5,  0.5,  0.5,  0.5,  0.5,  0.5,  0.5,  0.5,  0.5,  0.5],\n",
       "       [ 9.5,  0.5,  0.5,  0.5,  0.5,  0.5,  0.5,  0.5,  0.5,  0.5,  0.5],\n",
       "       [ 9.5,  0.5,  0.5,  0.5,  0.5,  0.5,  0.5,  0.5,  0.5,  0.5,  0.5],\n",
       "       [ 9.5,  0.5,  0.5,  0.5,  0.5,  0.5,  0.5,  0.5,  0.5,  0.5,  0.5],\n",
       "       [ 9.5,  0.5,  0.5,  0.5,  0.5,  0.5,  0.5,  0.5,  0.5,  0.5,  0.5]])"
      ]
     },
     "execution_count": 8,
     "metadata": {},
     "output_type": "execute_result"
    }
   ],
   "source": [
    "\"\"\"e\"\"\"\n",
    "myarray1[:, 0:1] = 9.5\n",
    "myarray1"
   ]
  },
  {
   "cell_type": "code",
   "execution_count": 9,
   "id": "c64df0d0-772c-481a-929f-ab19d1daa448",
   "metadata": {},
   "outputs": [
    {
     "data": {
      "text/plain": [
       "array([[ 9.5,  0.5,  0.5,  0.5,  0.5,  0.5,  0.5,  0.5,  0.5,  0.5,  0.5],\n",
       "       [ 9.5, 10.5, 10.5, 10.5, 10.5, 10.5, 10.5, 10.5, 10.5, 10.5, 10.5],\n",
       "       [ 9.5, 11.5, 11.5, 11.5, 11.5, 11.5, 11.5, 11.5, 11.5, 11.5, 11.5],\n",
       "       [ 9.5,  0.5,  0.5,  0.5,  0.5,  0.5,  0.5,  0.5,  0.5,  0.5,  0.5],\n",
       "       [ 9.5,  0.5,  0.5,  0.5,  0.5,  0.5,  0.5,  0.5,  0.5,  0.5,  0.5],\n",
       "       [ 9.5,  0.5,  0.5,  0.5,  0.5,  0.5,  0.5,  0.5,  0.5,  0.5,  0.5],\n",
       "       [ 9.5,  0.5,  0.5,  0.5,  0.5,  0.5,  0.5,  0.5,  0.5,  0.5,  0.5],\n",
       "       [ 9.5,  0.5,  0.5,  0.5,  0.5,  0.5,  0.5,  0.5,  0.5,  0.5,  0.5]])"
      ]
     },
     "execution_count": 9,
     "metadata": {},
     "output_type": "execute_result"
    }
   ],
   "source": [
    "\"\"\"f\"\"\"\n",
    "myarray1[4:12]"
   ]
  },
  {
   "cell_type": "code",
   "execution_count": 10,
   "id": "c804d123-5c71-49b3-bab8-9d0369fc81e6",
   "metadata": {},
   "outputs": [
    {
     "data": {
      "text/plain": [
       "array([[ 0.5,  0.5,  0.5,  0.5],\n",
       "       [ 0.5,  0.5,  0.5,  0.5],\n",
       "       [ 0.5,  0.5,  0.5,  0.5],\n",
       "       [ 0.5,  0.5,  0.5,  0.5],\n",
       "       [ 0.5,  0.5,  0.5,  0.5],\n",
       "       [10.5, 10.5, 10.5, 10.5],\n",
       "       [11.5, 11.5, 11.5, 11.5],\n",
       "       [ 0.5,  0.5,  0.5,  0.5],\n",
       "       [ 0.5,  0.5,  0.5,  0.5],\n",
       "       [ 0.5,  0.5,  0.5,  0.5],\n",
       "       [ 0.5,  0.5,  0.5,  0.5],\n",
       "       [ 0.5,  0.5,  0.5,  0.5],\n",
       "       [ 0.5,  0.5,  0.5,  0.5],\n",
       "       [ 0.5,  0.5,  0.5,  0.5],\n",
       "       [ 0.5,  0.5,  0.5,  0.5],\n",
       "       [ 0.5,  0.5,  0.5,  0.5],\n",
       "       [ 0.5,  0.5,  0.5,  0.5],\n",
       "       [ 0.5,  0.5,  0.5,  0.5],\n",
       "       [ 0.5,  0.5,  0.5,  0.5],\n",
       "       [ 0.5,  0.5,  0.5,  0.5]])"
      ]
     },
     "execution_count": 10,
     "metadata": {},
     "output_type": "execute_result"
    }
   ],
   "source": [
    "\"\"\"g\"\"\"\n",
    "myarray1[:,6:10]"
   ]
  },
  {
   "cell_type": "code",
   "execution_count": 11,
   "id": "bfc45964-cec8-419b-b95c-5777e697c867",
   "metadata": {},
   "outputs": [
    {
     "data": {
      "text/plain": [
       "array([ 9.5, 11.5, 11.5, 11.5, 11.5, 11.5, 11.5, 11.5, 11.5, 11.5, 11.5,\n",
       "        9.5,  0.5,  0.5,  0.5,  0.5,  0.5,  0.5,  0.5,  0.5,  0.5,  0.5])"
      ]
     },
     "execution_count": 11,
     "metadata": {},
     "output_type": "execute_result"
    }
   ],
   "source": [
    "\"\"\"h\"\"\"\n",
    "h_arr = np.hstack((myarray1[6],myarray1[8]))\n",
    "h_arr"
   ]
  },
  {
   "cell_type": "code",
   "execution_count": 12,
   "id": "03fd3a3b-02c8-46b1-810f-1f4482b4d0ba",
   "metadata": {},
   "outputs": [
    {
     "data": {
      "text/plain": [
       "array([[ 9.5, 10.5, 10.5, 10.5, 10.5, 10.5, 10.5, 10.5, 10.5, 10.5, 10.5],\n",
       "       [ 9.5,  0.5,  0.5,  0.5,  0.5,  0.5,  0.5,  0.5,  0.5,  0.5,  0.5]])"
      ]
     },
     "execution_count": 12,
     "metadata": {},
     "output_type": "execute_result"
    }
   ],
   "source": [
    "\"\"\"i\"\"\"\n",
    "v_arr = np.vstack((myarray1[5],myarray1[10]))\n",
    "v_arr"
   ]
  }
 ],
 "metadata": {
  "kernelspec": {
   "display_name": "Python 3 (ipykernel)",
   "language": "python",
   "name": "python3"
  },
  "language_info": {
   "codemirror_mode": {
    "name": "ipython",
    "version": 3
   },
   "file_extension": ".py",
   "mimetype": "text/x-python",
   "name": "python",
   "nbconvert_exporter": "python",
   "pygments_lexer": "ipython3",
   "version": "3.9.12"
  }
 },
 "nbformat": 4,
 "nbformat_minor": 5
}
